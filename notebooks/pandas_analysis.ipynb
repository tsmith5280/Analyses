# Cell 1: Imports
import pandas as pd
import matplotlib.pyplot as plt
import seaborn as sns

# Cell 2: Load data
df = pd.read_csv("../data/raw/your_dataset.csv")
df.head()

# Cell 3: Data Cleaning
# Example: remove nulls, fix types
df = df.dropna()
df['some_column'] = df['some_column'].astype(int)

# Cell 4: Exploratory Analysis
print(df.describe())
df['category'].value_counts().plot(kind='bar')
plt.title("Distribution of Category")

# Cell 5: Transformations
grouped = df.groupby('region')['population'].sum()
print(grouped)

# Cell 6: Save Cleaned Data
df.to_csv("../data/cleaned/your_dataset_clean.csv", index=False)
